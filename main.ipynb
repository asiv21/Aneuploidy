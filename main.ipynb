{
 "cells": [
  {
   "cell_type": "code",
   "execution_count": null,
   "metadata": {},
   "outputs": [],
   "source": [
    "import numpy as np\n",
    "import csv\n",
    "import matplotlib.pyplot as plt\n",
    "import pandas as pd"
   ]
  },
  {
   "cell_type": "code",
   "execution_count": null,
   "metadata": {},
   "outputs": [],
   "source": [
    "B1_IO = pd.read_csv('Data/Batch_1/Interval_order.csv')\n",
    "B1_Depth = pd.read_csv('Data/Batch_1/Depth.csv')\n",
    "\n",
    "B2_IO = pd.read_csv('Data/Batch_2/Interval_order.csv')\n",
    "B2_Depth = pd.read_csv('Data/Batch_2/Depth.csv')"
   ]
  },
  {
   "cell_type": "code",
   "execution_count": null,
   "metadata": {},
   "outputs": [],
   "source": [
    "plt.plot(B1_IO['Chrom'])\n",
    "print(B1_IO.shape, B1_Depth.shape)\n"
   ]
  },
  {
   "cell_type": "code",
   "execution_count": null,
   "metadata": {},
   "outputs": [],
   "source": [
    "plt.plot(B2_IO['Chrom'])\n",
    "print(B2_IO.shape, B2_Depth.shape)"
   ]
  },
  {
   "cell_type": "code",
   "execution_count": null,
   "metadata": {
    "scrolled": true
   },
   "outputs": [],
   "source": [
    "plt.plot(B2_Depth)"
   ]
  },
  {
   "cell_type": "code",
   "execution_count": null,
   "metadata": {
    "scrolled": true
   },
   "outputs": [],
   "source": [
    "B1_IO.head() "
   ]
  },
  {
   "cell_type": "code",
   "execution_count": null,
   "metadata": {},
   "outputs": [],
   "source": [
    "B1_IO.loc[B1_IO['Chrom'] == 24].head() "
   ]
  },
  {
   "cell_type": "code",
   "execution_count": null,
   "metadata": {},
   "outputs": [],
   "source": [
    "bounds=[] \n",
    "for i in range(1,25): \n",
    "    bounds.append((B1_IO.loc[B1_IO['Chrom'] == i].iloc[0].name,B1_IO.loc[B1_IO['Chrom'] == i].iloc[-1].name)) "
   ]
  },
  {
   "cell_type": "code",
   "execution_count": null,
   "metadata": {},
   "outputs": [],
   "source": [
    "bounds[0]"
   ]
  },
  {
   "cell_type": "code",
   "execution_count": null,
   "metadata": {},
   "outputs": [],
   "source": [
    "counts = np.zeros((24,24)) # Chromosome number (1-23) (on the rows) x sample number (1-24) (on the columns)\n",
    "for i in range(24):\n",
    "    counts[i,:] = np.sum(B1_Depth[bounds[i][0]:bounds[i][1]+1]) #watch the notation here bc I think calls one too short for DataFrames \n",
    "#B1_Depth.iloc[bounds[0][0]]"
   ]
  },
  {
   "cell_type": "code",
   "execution_count": null,
   "metadata": {},
   "outputs": [],
   "source": [
    "counts[:,0]"
   ]
  },
  {
   "cell_type": "code",
   "execution_count": null,
   "metadata": {},
   "outputs": [],
   "source": [
    "# Let's make a plot of the counts for each chromosome for each sample \n",
    "for i in range(24): \n",
    "    plt.figure() \n",
    "    plt.plot(counts[i,:], 'bo', alpha=0.4) \n",
    "    plt.ylabel('Counts per Chromosome') \n",
    "    plt.xlabel('Chromosome Number ' + str(i+1))"
   ]
  },
  {
   "cell_type": "code",
   "execution_count": null,
   "metadata": {},
   "outputs": [],
   "source": [
    "# And now let's see the counts for each chromosome per sample \n",
    "for i in range(24): \n",
    "    plt.figure() \n",
    "    plt.plot(counts[:,i], 'bo', alpha=0.4) \n",
    "    plt.ylabel('Counts per Chromosome') \n",
    "    plt.xlabel('Chromosome Number') "
   ]
  },
  {
   "cell_type": "code",
   "execution_count": null,
   "metadata": {},
   "outputs": [],
   "source": [
    "print(B1_IO.shape, B1_Depth.shape)"
   ]
  },
  {
   "cell_type": "code",
   "execution_count": null,
   "metadata": {},
   "outputs": [],
   "source": []
  }
 ],
 "metadata": {
  "kernelspec": {
   "display_name": "Python 2",
   "language": "python",
   "name": "python2"
  },
  "language_info": {
   "codemirror_mode": {
    "name": "ipython",
    "version": 2
   },
   "file_extension": ".py",
   "mimetype": "text/x-python",
   "name": "python",
   "nbconvert_exporter": "python",
   "pygments_lexer": "ipython2",
   "version": "2.7.15"
  }
 },
 "nbformat": 4,
 "nbformat_minor": 2
}
